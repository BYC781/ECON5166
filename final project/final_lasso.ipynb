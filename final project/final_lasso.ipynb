{
 "cells": [
  {
   "cell_type": "code",
   "execution_count": 41,
   "id": "24130280",
   "metadata": {},
   "outputs": [],
   "source": [
    "import numpy as np \n",
    "import matplotlib.pyplot as plt \n",
    "import pandas as pd\n",
    "from sklearn.linear_model import Lasso,LassoCV,LassoLarsCV"
   ]
  },
  {
   "cell_type": "code",
   "execution_count": 166,
   "id": "35807a57",
   "metadata": {},
   "outputs": [],
   "source": [
    "df = pd.read_csv(\"dataset.csv\")"
   ]
  },
  {
   "cell_type": "code",
   "execution_count": 162,
   "id": "dea2b48d",
   "metadata": {},
   "outputs": [
    {
     "data": {
      "text/html": [
       "<div>\n",
       "<style scoped>\n",
       "    .dataframe tbody tr th:only-of-type {\n",
       "        vertical-align: middle;\n",
       "    }\n",
       "\n",
       "    .dataframe tbody tr th {\n",
       "        vertical-align: top;\n",
       "    }\n",
       "\n",
       "    .dataframe thead th {\n",
       "        text-align: right;\n",
       "    }\n",
       "</style>\n",
       "<table border=\"1\" class=\"dataframe\">\n",
       "  <thead>\n",
       "    <tr style=\"text-align: right;\">\n",
       "      <th></th>\n",
       "      <th>id</th>\n",
       "      <th>pic_id</th>\n",
       "      <th>age</th>\n",
       "      <th>male</th>\n",
       "      <th>college</th>\n",
       "      <th>orientation</th>\n",
       "      <th>friend_request</th>\n",
       "      <th>char_positivity</th>\n",
       "      <th>char_outgoing</th>\n",
       "      <th>char_open</th>\n",
       "      <th>...</th>\n",
       "      <th>skin</th>\n",
       "      <th>hair</th>\n",
       "      <th>color</th>\n",
       "      <th>acne</th>\n",
       "      <th>glasses</th>\n",
       "      <th>double_eyelid</th>\n",
       "      <th>thick_eyebrow</th>\n",
       "      <th>thick_lip</th>\n",
       "      <th>face_shape</th>\n",
       "      <th>long_hair</th>\n",
       "    </tr>\n",
       "  </thead>\n",
       "  <tbody>\n",
       "    <tr>\n",
       "      <th>0</th>\n",
       "      <td>1</td>\n",
       "      <td>1</td>\n",
       "      <td>22</td>\n",
       "      <td>0</td>\n",
       "      <td>3</td>\n",
       "      <td>1</td>\n",
       "      <td>4</td>\n",
       "      <td>2</td>\n",
       "      <td>3</td>\n",
       "      <td>4</td>\n",
       "      <td>...</td>\n",
       "      <td>4</td>\n",
       "      <td>4</td>\n",
       "      <td>black</td>\n",
       "      <td>0</td>\n",
       "      <td>0</td>\n",
       "      <td>1</td>\n",
       "      <td>0</td>\n",
       "      <td>0</td>\n",
       "      <td>long</td>\n",
       "      <td>1</td>\n",
       "    </tr>\n",
       "    <tr>\n",
       "      <th>1</th>\n",
       "      <td>1</td>\n",
       "      <td>2</td>\n",
       "      <td>22</td>\n",
       "      <td>0</td>\n",
       "      <td>3</td>\n",
       "      <td>1</td>\n",
       "      <td>2</td>\n",
       "      <td>2</td>\n",
       "      <td>4</td>\n",
       "      <td>2</td>\n",
       "      <td>...</td>\n",
       "      <td>2</td>\n",
       "      <td>2</td>\n",
       "      <td>healthy</td>\n",
       "      <td>0</td>\n",
       "      <td>1</td>\n",
       "      <td>0</td>\n",
       "      <td>1</td>\n",
       "      <td>0</td>\n",
       "      <td>square</td>\n",
       "      <td>0</td>\n",
       "    </tr>\n",
       "    <tr>\n",
       "      <th>2</th>\n",
       "      <td>1</td>\n",
       "      <td>3</td>\n",
       "      <td>22</td>\n",
       "      <td>0</td>\n",
       "      <td>3</td>\n",
       "      <td>1</td>\n",
       "      <td>3</td>\n",
       "      <td>4</td>\n",
       "      <td>4</td>\n",
       "      <td>4</td>\n",
       "      <td>...</td>\n",
       "      <td>4</td>\n",
       "      <td>4</td>\n",
       "      <td>healthy</td>\n",
       "      <td>0</td>\n",
       "      <td>0</td>\n",
       "      <td>0</td>\n",
       "      <td>0</td>\n",
       "      <td>0</td>\n",
       "      <td>square</td>\n",
       "      <td>0</td>\n",
       "    </tr>\n",
       "    <tr>\n",
       "      <th>3</th>\n",
       "      <td>1</td>\n",
       "      <td>4</td>\n",
       "      <td>22</td>\n",
       "      <td>0</td>\n",
       "      <td>3</td>\n",
       "      <td>1</td>\n",
       "      <td>1</td>\n",
       "      <td>2</td>\n",
       "      <td>2</td>\n",
       "      <td>2</td>\n",
       "      <td>...</td>\n",
       "      <td>2</td>\n",
       "      <td>4</td>\n",
       "      <td>fair</td>\n",
       "      <td>0</td>\n",
       "      <td>1</td>\n",
       "      <td>1</td>\n",
       "      <td>0</td>\n",
       "      <td>0</td>\n",
       "      <td>long</td>\n",
       "      <td>0</td>\n",
       "    </tr>\n",
       "    <tr>\n",
       "      <th>4</th>\n",
       "      <td>1</td>\n",
       "      <td>5</td>\n",
       "      <td>22</td>\n",
       "      <td>0</td>\n",
       "      <td>3</td>\n",
       "      <td>1</td>\n",
       "      <td>3</td>\n",
       "      <td>4</td>\n",
       "      <td>5</td>\n",
       "      <td>4</td>\n",
       "      <td>...</td>\n",
       "      <td>4</td>\n",
       "      <td>4</td>\n",
       "      <td>fair</td>\n",
       "      <td>0</td>\n",
       "      <td>0</td>\n",
       "      <td>1</td>\n",
       "      <td>0</td>\n",
       "      <td>0</td>\n",
       "      <td>round</td>\n",
       "      <td>1</td>\n",
       "    </tr>\n",
       "  </tbody>\n",
       "</table>\n",
       "<p>5 rows × 30 columns</p>\n",
       "</div>"
      ],
      "text/plain": [
       "   id  pic_id  age  male college  orientation  friend_request  \\\n",
       "0   1       1   22     0       3            1               4   \n",
       "1   1       2   22     0       3            1               2   \n",
       "2   1       3   22     0       3            1               3   \n",
       "3   1       4   22     0       3            1               1   \n",
       "4   1       5   22     0       3            1               3   \n",
       "\n",
       "   char_positivity  char_outgoing  char_open  ...  skin  hair    color  acne  \\\n",
       "0                2              3          4  ...     4     4    black     0   \n",
       "1                2              4          2  ...     2     2  healthy     0   \n",
       "2                4              4          4  ...     4     4  healthy     0   \n",
       "3                2              2          2  ...     2     4     fair     0   \n",
       "4                4              5          4  ...     4     4     fair     0   \n",
       "\n",
       "   glasses  double_eyelid  thick_eyebrow  thick_lip  face_shape  long_hair  \n",
       "0        0              1              0          0        long          1  \n",
       "1        1              0              1          0      square          0  \n",
       "2        0              0              0          0      square          0  \n",
       "3        1              1              0          0        long          0  \n",
       "4        0              1              0          0       round          1  \n",
       "\n",
       "[5 rows x 30 columns]"
      ]
     },
     "execution_count": 162,
     "metadata": {},
     "output_type": "execute_result"
    }
   ],
   "source": [
    "df.head()"
   ]
  },
  {
   "cell_type": "code",
   "execution_count": 167,
   "id": "b3eaa422",
   "metadata": {},
   "outputs": [
    {
     "data": {
      "text/plain": [
       "53"
      ]
     },
     "execution_count": 167,
     "metadata": {},
     "output_type": "execute_result"
    }
   ],
   "source": [
    "df = pd.get_dummies(df)\n",
    "df = pd.get_dummies(df, columns=['orientation'])\n",
    "df.columns\n",
    "len(df.columns)"
   ]
  },
  {
   "cell_type": "code",
   "execution_count": 169,
   "id": "f3c2fbf1",
   "metadata": {},
   "outputs": [
    {
     "name": "stdout",
     "output_type": "stream",
     "text": [
      "['id', 'pic_id', 'age', 'friend_request', 'char_positivity', 'char_outgoing', 'char_open', 'char_friendly', 'char_discipline', 'char_social', 'char_economic', 'rating', 'face', 'nose', 'eyes', 'mouth', 'overall_feature', 'skin', 'hair', 'acne', 'glasses', 'double_eyelid', 'thick_eyebrow', 'thick_lip', 'long_hair', 'college_1', 'college_2', 'college_3', 'college_4', 'college_5', 'college_6', 'college_7', 'college_8', 'college_9', 'college_A', 'college_B', 'college_I', 'college_art', 'college_communication', 'college_education', 'college_marine', 'color_black', 'color_fair', 'color_healthy', 'face_shape_long', 'face_shape_round', 'face_shape_square', 'orientation_1', 'orientation_2', 'orientation_3', 'orientation_4', 'orientation_5', 'male']\n"
     ]
    }
   ],
   "source": [
    "cols = df.columns.tolist()\n",
    "temp = cols[0:3]+cols[4:]+cols[3:4]\n",
    "df = df[temp]\n",
    "print(temp)"
   ]
  },
  {
   "cell_type": "code",
   "execution_count": 170,
   "id": "68a18cd8",
   "metadata": {},
   "outputs": [],
   "source": [
    "X_numerical = df.iloc[:,2:18]\n",
    "X_numerical = X_numerical.drop(columns=['friend_request'])\n",
    "list_numerical = X_numerical.columns\n",
    "X_dummy = df.iloc[:,2:]\n",
    "X_dummy = X_dummy.drop(columns=['age', 'friend_request', 'char_positivity',\n",
    "       'char_outgoing', 'char_open', 'char_friendly', 'char_discipline',\n",
    "       'char_social', 'char_economic', 'rating', 'face', 'nose', 'eyes',\n",
    "       'mouth', 'overall_feature', 'skin', 'hair',])\n",
    "Y1 = df['friend_request']"
   ]
  },
  {
   "cell_type": "code",
   "execution_count": 171,
   "id": "abee6f68",
   "metadata": {},
   "outputs": [],
   "source": [
    "from sklearn.preprocessing import StandardScaler\n",
    "scaler = StandardScaler().fit(X_numerical) \n",
    "\n",
    "X_numerical[list_numerical] = scaler.transform(X_numerical[list_numerical])"
   ]
  },
  {
   "cell_type": "code",
   "execution_count": 173,
   "id": "bd45974c",
   "metadata": {},
   "outputs": [
    {
     "data": {
      "text/plain": [
       "Index(['age', 'char_positivity', 'char_outgoing', 'char_open', 'char_friendly',\n",
       "       'char_discipline', 'char_social', 'char_economic', 'rating', 'face',\n",
       "       'nose', 'eyes', 'mouth', 'overall_feature', 'skin', 'acne', 'glasses',\n",
       "       'double_eyelid', 'thick_eyebrow', 'thick_lip', 'long_hair', 'college_1',\n",
       "       'college_2', 'college_3', 'college_4', 'college_5', 'college_6',\n",
       "       'college_7', 'college_8', 'college_9', 'college_A', 'college_B',\n",
       "       'college_I', 'college_art', 'college_communication',\n",
       "       'college_education', 'college_marine', 'color_black', 'color_fair',\n",
       "       'color_healthy', 'face_shape_long', 'face_shape_round',\n",
       "       'face_shape_square', 'orientation_1', 'orientation_2', 'orientation_3',\n",
       "       'orientation_4', 'orientation_5', 'male'],\n",
       "      dtype='object')"
      ]
     },
     "execution_count": 173,
     "metadata": {},
     "output_type": "execute_result"
    }
   ],
   "source": [
    "X = pd.concat([X_numerical, X_dummy], axis=1)\n",
    "X.shape\n",
    "X.columns"
   ]
  },
  {
   "attachments": {},
   "cell_type": "markdown",
   "id": "cbffb3be",
   "metadata": {},
   "source": [
    "# Friend request"
   ]
  },
  {
   "cell_type": "code",
   "execution_count": 180,
   "id": "c3902738",
   "metadata": {
    "scrolled": false
   },
   "outputs": [
    {
     "data": {
      "text/html": [
       "<style>#sk-container-id-25 {color: black;background-color: white;}#sk-container-id-25 pre{padding: 0;}#sk-container-id-25 div.sk-toggleable {background-color: white;}#sk-container-id-25 label.sk-toggleable__label {cursor: pointer;display: block;width: 100%;margin-bottom: 0;padding: 0.3em;box-sizing: border-box;text-align: center;}#sk-container-id-25 label.sk-toggleable__label-arrow:before {content: \"▸\";float: left;margin-right: 0.25em;color: #696969;}#sk-container-id-25 label.sk-toggleable__label-arrow:hover:before {color: black;}#sk-container-id-25 div.sk-estimator:hover label.sk-toggleable__label-arrow:before {color: black;}#sk-container-id-25 div.sk-toggleable__content {max-height: 0;max-width: 0;overflow: hidden;text-align: left;background-color: #f0f8ff;}#sk-container-id-25 div.sk-toggleable__content pre {margin: 0.2em;color: black;border-radius: 0.25em;background-color: #f0f8ff;}#sk-container-id-25 input.sk-toggleable__control:checked~div.sk-toggleable__content {max-height: 200px;max-width: 100%;overflow: auto;}#sk-container-id-25 input.sk-toggleable__control:checked~label.sk-toggleable__label-arrow:before {content: \"▾\";}#sk-container-id-25 div.sk-estimator input.sk-toggleable__control:checked~label.sk-toggleable__label {background-color: #d4ebff;}#sk-container-id-25 div.sk-label input.sk-toggleable__control:checked~label.sk-toggleable__label {background-color: #d4ebff;}#sk-container-id-25 input.sk-hidden--visually {border: 0;clip: rect(1px 1px 1px 1px);clip: rect(1px, 1px, 1px, 1px);height: 1px;margin: -1px;overflow: hidden;padding: 0;position: absolute;width: 1px;}#sk-container-id-25 div.sk-estimator {font-family: monospace;background-color: #f0f8ff;border: 1px dotted black;border-radius: 0.25em;box-sizing: border-box;margin-bottom: 0.5em;}#sk-container-id-25 div.sk-estimator:hover {background-color: #d4ebff;}#sk-container-id-25 div.sk-parallel-item::after {content: \"\";width: 100%;border-bottom: 1px solid gray;flex-grow: 1;}#sk-container-id-25 div.sk-label:hover label.sk-toggleable__label {background-color: #d4ebff;}#sk-container-id-25 div.sk-serial::before {content: \"\";position: absolute;border-left: 1px solid gray;box-sizing: border-box;top: 0;bottom: 0;left: 50%;z-index: 0;}#sk-container-id-25 div.sk-serial {display: flex;flex-direction: column;align-items: center;background-color: white;padding-right: 0.2em;padding-left: 0.2em;position: relative;}#sk-container-id-25 div.sk-item {position: relative;z-index: 1;}#sk-container-id-25 div.sk-parallel {display: flex;align-items: stretch;justify-content: center;background-color: white;position: relative;}#sk-container-id-25 div.sk-item::before, #sk-container-id-25 div.sk-parallel-item::before {content: \"\";position: absolute;border-left: 1px solid gray;box-sizing: border-box;top: 0;bottom: 0;left: 50%;z-index: -1;}#sk-container-id-25 div.sk-parallel-item {display: flex;flex-direction: column;z-index: 1;position: relative;background-color: white;}#sk-container-id-25 div.sk-parallel-item:first-child::after {align-self: flex-end;width: 50%;}#sk-container-id-25 div.sk-parallel-item:last-child::after {align-self: flex-start;width: 50%;}#sk-container-id-25 div.sk-parallel-item:only-child::after {width: 0;}#sk-container-id-25 div.sk-dashed-wrapped {border: 1px dashed gray;margin: 0 0.4em 0.5em 0.4em;box-sizing: border-box;padding-bottom: 0.4em;background-color: white;}#sk-container-id-25 div.sk-label label {font-family: monospace;font-weight: bold;display: inline-block;line-height: 1.2em;}#sk-container-id-25 div.sk-label-container {text-align: center;}#sk-container-id-25 div.sk-container {/* jupyter's `normalize.less` sets `[hidden] { display: none; }` but bootstrap.min.css set `[hidden] { display: none !important; }` so we also need the `!important` here to be able to override the default hidden behavior on the sphinx rendered scikit-learn.org. See: https://github.com/scikit-learn/scikit-learn/issues/21755 */display: inline-block !important;position: relative;}#sk-container-id-25 div.sk-text-repr-fallback {display: none;}</style><div id=\"sk-container-id-25\" class=\"sk-top-container\"><div class=\"sk-text-repr-fallback\"><pre>LassoCV(cv=5, random_state=0)</pre><b>In a Jupyter environment, please rerun this cell to show the HTML representation or trust the notebook. <br />On GitHub, the HTML representation is unable to render, please try loading this page with nbviewer.org.</b></div><div class=\"sk-container\" hidden><div class=\"sk-item\"><div class=\"sk-estimator sk-toggleable\"><input class=\"sk-toggleable__control sk-hidden--visually\" id=\"sk-estimator-id-25\" type=\"checkbox\" checked><label for=\"sk-estimator-id-25\" class=\"sk-toggleable__label sk-toggleable__label-arrow\">LassoCV</label><div class=\"sk-toggleable__content\"><pre>LassoCV(cv=5, random_state=0)</pre></div></div></div></div></div>"
      ],
      "text/plain": [
       "LassoCV(cv=5, random_state=0)"
      ]
     },
     "execution_count": 180,
     "metadata": {},
     "output_type": "execute_result"
    }
   ],
   "source": [
    "model = LassoCV(cv=5, random_state=0) \n",
    "model.fit(X, Y1)"
   ]
  },
  {
   "cell_type": "code",
   "execution_count": 181,
   "id": "af9a7170",
   "metadata": {},
   "outputs": [
    {
     "name": "stdout",
     "output_type": "stream",
     "text": [
      "R squared 53.34 %\n"
     ]
    }
   ],
   "source": [
    "print('R squared', round(model.score(X, Y1)*100, 2), \"%\")"
   ]
  },
  {
   "cell_type": "code",
   "execution_count": 182,
   "id": "338c4bea",
   "metadata": {},
   "outputs": [
    {
     "name": "stdout",
     "output_type": "stream",
     "text": [
      "MSE 0.39\n"
     ]
    }
   ],
   "source": [
    "from sklearn.metrics import mean_squared_error\n",
    "\n",
    "# Training data\n",
    "pred = model.predict(X)\n",
    "mse = mean_squared_error(Y1, pred)\n",
    "print('MSE', round(mse, 2))"
   ]
  },
  {
   "cell_type": "code",
   "execution_count": 183,
   "id": "a5d62413",
   "metadata": {
    "scrolled": true
   },
   "outputs": [
    {
     "name": "stdout",
     "output_type": "stream",
     "text": [
      "係數矩陣:\n",
      " [ 0.01219108  0.06286051 -0.0647401   0.01418402  0.03908242  0.01759623\n",
      "  0.0080249  -0.02160748  0.41356145 -0.         -0.          0.0304189\n",
      "  0.02799146  0.13377012  0.02012566  0.08555967 -0.10788895  0.09423199\n",
      " -0.          0.00581518  0.          0.         -0.07007049  0.01826402\n",
      " -0.03816897 -0.00816042  0.02347028  0.08163604 -0.          0.\n",
      " -0.         -0.          0.         -0.          0.         -0.\n",
      " -0.         -0.11447199  0.08024841  0.          0.          0.01049224\n",
      " -0.02075573  0.         -0.15795394  0.05093603 -0.         -0.\n",
      "  0.05587484]\n",
      "線性迴歸模型:\n",
      " LassoCV(cv=5, random_state=0)\n",
      "最佳的alpha： 0.002970851046786863\n",
      "30\n"
     ]
    }
   ],
   "source": [
    "print('係數矩陣:\\n',model.coef_)\n",
    "print('線性迴歸模型:\\n',model)\n",
    "print('最佳的alpha：',model.alpha_)  # 只有在使用LassoCV、LassoLarsCV時才有效\n",
    "print(np.count_nonzero(model.coef_))"
   ]
  },
  {
   "cell_type": "code",
   "execution_count": 184,
   "id": "fb27eaa0",
   "metadata": {},
   "outputs": [
    {
     "name": "stdout",
     "output_type": "stream",
     "text": [
      "30\n",
      "(array([ 0,  1,  2,  3,  4,  5,  6,  7,  8, 11, 12, 13, 14, 15, 16, 17, 19,\n",
      "       22, 23, 24, 25, 26, 27, 37, 38, 41, 42, 44, 45, 48]),)\n"
     ]
    },
    {
     "data": {
      "text/plain": [
       "Index(['age', 'char_positivity', 'char_outgoing', 'char_open', 'char_friendly',\n",
       "       'char_discipline', 'char_social', 'char_economic', 'rating', 'eyes',\n",
       "       'mouth', 'overall_feature', 'skin', 'acne', 'glasses', 'double_eyelid',\n",
       "       'thick_lip', 'college_2', 'college_3', 'college_4', 'college_5',\n",
       "       'college_6', 'college_7', 'color_black', 'color_fair',\n",
       "       'face_shape_round', 'face_shape_square', 'orientation_2',\n",
       "       'orientation_3', 'male'],\n",
       "      dtype='object')"
      ]
     },
     "execution_count": 184,
     "metadata": {},
     "output_type": "execute_result"
    }
   ],
   "source": [
    "print(np.count_nonzero(model.coef_))\n",
    "print(np.nonzero(model.coef_))\n",
    "X.columns[np.nonzero(model.coef_)]"
   ]
  },
  {
   "cell_type": "code",
   "execution_count": 185,
   "id": "80cd80a1",
   "metadata": {},
   "outputs": [
    {
     "name": "stdout",
     "output_type": "stream",
     "text": [
      "30\n",
      "age : 0.012191079858590744\n",
      "char_positivity : 0.0628605075126505\n",
      "char_outgoing : -0.06474010279187936\n",
      "char_open : 0.014184018765057465\n",
      "char_friendly : 0.0390824189278572\n",
      "char_discipline : 0.017596229429195843\n",
      "char_social : 0.00802490321939987\n",
      "char_economic : -0.021607482819313194\n",
      "rating : 0.41356144775445247\n",
      "face : -0.0\n",
      "nose : -0.0\n",
      "eyes : 0.030418902692027825\n",
      "mouth : 0.0279914613779092\n",
      "overall_feature : 0.1337701237252289\n",
      "skin : 0.020125660910026134\n",
      "acne : 0.08555967057465232\n",
      "glasses : -0.10788895034068238\n",
      "double_eyelid : 0.09423199395863524\n",
      "thick_eyebrow : -0.0\n",
      "thick_lip : 0.005815176023269142\n",
      "long_hair : 0.0\n",
      "college_1 : 0.0\n",
      "college_2 : -0.07007048876019088\n",
      "college_3 : 0.018264015827381505\n",
      "college_4 : -0.03816897250855466\n",
      "college_5 : -0.00816042081941465\n",
      "college_6 : 0.023470283969093036\n",
      "college_7 : 0.08163603558762489\n",
      "college_8 : -0.0\n",
      "college_9 : 0.0\n",
      "college_A : -0.0\n",
      "college_B : -0.0\n",
      "college_I : 0.0\n",
      "college_art : -0.0\n",
      "college_communication : 0.0\n",
      "college_education : -0.0\n",
      "college_marine : -0.0\n",
      "color_black : -0.11447198942393653\n",
      "color_fair : 0.08024841487936586\n",
      "color_healthy : 0.0\n",
      "face_shape_long : 0.0\n",
      "face_shape_round : 0.010492243580027906\n",
      "face_shape_square : -0.02075572506595471\n",
      "orientation_1 : 0.0\n",
      "orientation_2 : -0.1579539424796573\n",
      "orientation_3 : 0.050936029842674015\n",
      "orientation_4 : -0.0\n",
      "orientation_5 : -0.0\n",
      "male : 0.055874838617289584\n"
     ]
    },
    {
     "data": {
      "text/plain": [
       "Index(['age', 'char_positivity', 'char_outgoing', 'char_open', 'char_friendly',\n",
       "       'char_discipline', 'char_social', 'char_economic', 'rating', 'eyes',\n",
       "       'mouth', 'overall_feature', 'skin', 'acne', 'glasses', 'double_eyelid',\n",
       "       'thick_lip', 'college_2', 'college_3', 'college_4', 'college_5',\n",
       "       'college_6', 'college_7', 'color_black', 'color_fair',\n",
       "       'face_shape_round', 'face_shape_square', 'orientation_2',\n",
       "       'orientation_3', 'male'],\n",
       "      dtype='object')"
      ]
     },
     "execution_count": 185,
     "metadata": {},
     "output_type": "execute_result"
    }
   ],
   "source": [
    "print(np.count_nonzero(model.coef_))\n",
    "for x,y in zip(X.columns, model.coef_):\n",
    "    print(x,\":\",y)"
   ]
  },
  {
   "cell_type": "code",
   "execution_count": 186,
   "id": "0b6b6ba4",
   "metadata": {},
   "outputs": [],
   "source": [
    "result = pd.DataFrame({\"variables\":X.columns, \"Y1\":model.coef_})\n",
    "result.to_csv(\"result.csv\", index = False)"
   ]
  },
  {
   "cell_type": "code",
   "execution_count": null,
   "id": "ab9a6a4a",
   "metadata": {},
   "outputs": [],
   "source": []
  }
 ],
 "metadata": {
  "kernelspec": {
   "display_name": "Python 3",
   "language": "python",
   "name": "python3"
  },
  "language_info": {
   "codemirror_mode": {
    "name": "ipython",
    "version": 3
   },
   "file_extension": ".py",
   "mimetype": "text/x-python",
   "name": "python",
   "nbconvert_exporter": "python",
   "pygments_lexer": "ipython3",
   "version": "3.10.6"
  },
  "vscode": {
   "interpreter": {
    "hash": "aee8b7b246df8f9039afb4144a1f6fd8d2ca17a180786b69acc140d282b71a49"
   }
  }
 },
 "nbformat": 4,
 "nbformat_minor": 5
}
