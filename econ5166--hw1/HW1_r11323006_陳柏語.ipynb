{
  "nbformat": 4,
  "nbformat_minor": 0,
  "metadata": {
    "colab": {
      "provenance": [],
      "collapsed_sections": []
    },
    "kernelspec": {
      "name": "python3",
      "display_name": "Python 3"
    },
    "language_info": {
      "name": "python"
    }
  },
  "cells": [
    {
      "cell_type": "markdown",
      "source": [
        "code for 1(b)"
      ],
      "metadata": {
        "id": "r2tdUGA1Ijcq"
      }
    },
    {
      "cell_type": "code",
      "source": [
        "import numpy as np\n",
        "import matplotlib.pyplot as plt\n",
        "from scipy.stats import norm\n",
        "np.random.seed(5166)"
      ],
      "metadata": {
        "id": "rDiduAQApb29"
      },
      "execution_count": null,
      "outputs": []
    },
    {
      "cell_type": "code",
      "source": [
        "def normal_stimulation(mean=0, sigma=1, n=1):\n",
        "    normal_arr = np.random.normal(mean,sigma,n)\n",
        "    sum_of_indicat = 0\n",
        "    for xi in normal_arr:\n",
        "        if xi <= 0:\n",
        "            sum_of_indicat += 1\n",
        "    f_hat = sum_of_indicat/n\n",
        "    return f_hat\n",
        "    \n",
        "def edf(sample_x = sample_x, up_bound=0):\n",
        "    n = len(sample_x)\n",
        "    indicator_sum = 0\n",
        "    for i in sample_x:\n",
        "        if indicator(i, up_bound) == 1:\n",
        "            indicator_sum += 1\n",
        "    return float(1/n) * float(indicator_sum)\n",
        "\n",
        "def indicator(x=1, up_bound=2):\n",
        "    if x <= up_bound:\n",
        "        return 1\n",
        "    else:\n",
        "        return 0"
      ],
      "metadata": {
        "id": "diqiRPxkp29O"
      },
      "execution_count": null,
      "outputs": []
    },
    {
      "cell_type": "code",
      "execution_count": null,
      "metadata": {
        "colab": {
          "base_uri": "https://localhost:8080/",
          "height": 265
        },
        "id": "9IBO3ewvIbsJ",
        "outputId": "4b573c8c-e26a-405b-cf21-d704341e323e"
      },
      "outputs": [
        {
          "output_type": "display_data",
          "data": {
            "text/plain": [
              "<Figure size 432x288 with 1 Axes>"
            ],
            "image/png": "[encoded data removed]"
          },
          "metadata": {
            "needs_background": "light"
          }
        }
      ],
      "source": [
        "sample_x = np.array([-2.2, 3.46, 2.8, 5.3, 4.84, -3.2, 6.32, 7.7, 1.5, -1.32])\n",
        "check = np.arange(-10,10.01,0.01)\n",
        "sol_lst = list()\n",
        "for u in check:\n",
        "    sol_lst.append(edf(sample_x, up_bound = u))\n",
        "plt.plot(check, sol_lst)\n",
        "plt.show()"
      ]
    },
    {
      "cell_type": "markdown",
      "source": [
        "code for 1(i) & (h)"
      ],
      "metadata": {
        "id": "z6BpMep3IibS"
      }
    },
    {
      "cell_type": "code",
      "source": [
        "def mse(n=1, b=1):\n",
        "    f_hat_each_n = 0\n",
        "    f_hat_arr = []\n",
        "    for i in range(0,b):\n",
        "        f_hat_each_n = normal_stimulation(0,1,n=n)\n",
        "        f_hat_arr.append(f_hat_each_n)\n",
        "    f_x_0 = 1/2\n",
        "    f_x_0 = np.repeat(f_x_0, b)\n",
        "    f_hat_arr = f_hat_arr - f_x_0\n",
        "    f_hat_arr_sq = np.square(f_hat_arr)\n",
        "    ssq_f_hat_arr = np.sum(f_hat_arr_sq)\n",
        "    mse = (1/b) * ssq_f_hat_arr\n",
        "    return mse\n",
        "print(mse(100, 10000))\n",
        "print(mse(200, 10000))\n",
        "print(mse(500, 10000))"
      ],
      "metadata": {
        "colab": {
          "base_uri": "https://localhost:8080/"
        },
        "id": "dQ9VpP_AqXtb",
        "outputId": "c4e5ca33-06f2-4cf5-d4d1-be894b60d0c8"
      },
      "execution_count": null,
      "outputs": [
        {
          "output_type": "stream",
          "name": "stdout",
          "text": [
            "0.0025593400000000007\n",
            "0.0012389325000000005\n",
            "0.0005052512000000006\n"
          ]
        }
      ]
    },
    {
      "cell_type": "markdown",
      "source": [
        "code for 1(h)"
      ],
      "metadata": {
        "id": "MiGiJx0at1lq"
      }
    },
    {
      "cell_type": "code",
      "source": [
        "np.random.seed(5166)\n",
        "b=10000\n",
        "n=500\n",
        "f_hat_each_b = 0\n",
        "f_hat_arr = []\n",
        "for i in range(0,b):\n",
        "    f_hat_arr.append(normal_stimulation(0,1,n=n))\n",
        "f_x_0 = np.repeat(1/2, b)\n",
        "f_hat_arr = f_hat_arr - f_x_0\n",
        "sqrt_n_times_fhat_arr = f_hat_arr * (n**0.5)\n",
        "plt.hist(sqrt_n_times_fhat_arr, bins='auto', density=True)\n",
        "x_axis = np.arange(-3, 3, 0.01)\n",
        "plt.plot(x_axis, norm.pdf(x_axis, 0, 1/2))\n",
        "plt.show()"
      ],
      "metadata": {
        "colab": {
          "base_uri": "https://localhost:8080/",
          "height": 265
        },
        "id": "cTvmZvaqtzyT",
        "outputId": "ce4dc37f-d872-4e4e-a879-6272e3bbd4b3"
      },
      "execution_count": 36,
      "outputs": [
        {
          "output_type": "display_data",
          "data": {
            "text/plain": [
              "<Figure size 432x288 with 1 Axes>"
            ],
            "image/png": "[encoded data removed]"
          },
          "metadata": {
            "needs_background": "light"
          }
        }
      ]
    }
  ]
}