{
 "cells": [
  {
   "cell_type": "code",
   "execution_count": 2,
   "metadata": {},
   "outputs": [],
   "source": [
    "import numpy as np\n",
    "import pandas as pd"
   ]
  },
  {
   "cell_type": "code",
   "execution_count": 3,
   "metadata": {},
   "outputs": [],
   "source": [
    "face = pd.read_csv(\"face_2.csv\")\n",
    "y1 = face[\"friend_request\"]\n",
    "y2 = face[\"rating\"]\n",
    "dummies = pd.get_dummies(face[['college', 'orientation','face_shape', 'color']])"
   ]
  },
  {
   "cell_type": "code",
   "execution_count": 4,
   "metadata": {},
   "outputs": [
    {
     "data": {
      "text/plain": [
       "['age',\n",
       " 'char_positivity',\n",
       " 'char_outgoing',\n",
       " 'char_open',\n",
       " 'char_friendly',\n",
       " 'char_discipline',\n",
       " 'char_social',\n",
       " 'char_economic',\n",
       " 'face',\n",
       " 'nose',\n",
       " 'eyes',\n",
       " 'mouth',\n",
       " 'overall_feature',\n",
       " 'skin',\n",
       " 'hair']"
      ]
     },
     "execution_count": 4,
     "metadata": {},
     "output_type": "execute_result"
    }
   ],
   "source": [
    "face_lasso = face.drop([\"friend_request\",\"rating\", \"id\", \"pic_id\",'college', 'orientation','face_shape', 'color'], axis=1)\n",
    "face_lasso[['age', 'char_positivity', 'char_outgoing', 'char_open',\n",
    "       'char_friendly', 'char_discipline', 'char_social', 'char_economic',\n",
    "       'face', 'nose', 'eyes', 'mouth', 'overall_feature', 'skin', 'hair']].astype('float64')\n",
    "col_list = ['age', 'char_positivity', 'char_outgoing', 'char_open',\n",
    "       'char_friendly', 'char_discipline', 'char_social', 'char_economic',\n",
    "       'face', 'nose', 'eyes', 'mouth', 'overall_feature', 'skin', 'hair']\n",
    "col_list"
   ]
  },
  {
   "cell_type": "code",
   "execution_count": 5,
   "metadata": {},
   "outputs": [
    {
     "name": "stdout",
     "output_type": "stream",
     "text": [
      "<class 'pandas.core.frame.DataFrame'>\n",
      "RangeIndex: 2220 entries, 0 to 2219\n",
      "Data columns (total 49 columns):\n",
      " #   Column                 Non-Null Count  Dtype\n",
      "---  ------                 --------------  -----\n",
      " 0   age                    2220 non-null   int64\n",
      " 1   male                   2220 non-null   int64\n",
      " 2   char_positivity        2220 non-null   int64\n",
      " 3   char_outgoing          2220 non-null   int64\n",
      " 4   char_open              2220 non-null   int64\n",
      " 5   char_friendly          2220 non-null   int64\n",
      " 6   char_discipline        2220 non-null   int64\n",
      " 7   char_social            2220 non-null   int64\n",
      " 8   char_economic          2220 non-null   int64\n",
      " 9   face                   2220 non-null   int64\n",
      " 10  nose                   2220 non-null   int64\n",
      " 11  eyes                   2220 non-null   int64\n",
      " 12  mouth                  2220 non-null   int64\n",
      " 13  overall_feature        2220 non-null   int64\n",
      " 14  skin                   2220 non-null   int64\n",
      " 15  hair                   2220 non-null   int64\n",
      " 16  acne                   2220 non-null   int64\n",
      " 17  glasses                2220 non-null   int64\n",
      " 18  double_eyelid          2220 non-null   int64\n",
      " 19  thick_eyebrow          2220 non-null   int64\n",
      " 20  thick_lip              2220 non-null   int64\n",
      " 21  long_hair              2220 non-null   int64\n",
      " 22  college_1              2220 non-null   uint8\n",
      " 23  college_2              2220 non-null   uint8\n",
      " 24  college_3              2220 non-null   uint8\n",
      " 25  college_4              2220 non-null   uint8\n",
      " 26  college_5              2220 non-null   uint8\n",
      " 27  college_6              2220 non-null   uint8\n",
      " 28  college_7              2220 non-null   uint8\n",
      " 29  college_8              2220 non-null   uint8\n",
      " 30  college_9              2220 non-null   uint8\n",
      " 31  college_A              2220 non-null   uint8\n",
      " 32  college_B              2220 non-null   uint8\n",
      " 33  college_I              2220 non-null   uint8\n",
      " 34  college_art            2220 non-null   uint8\n",
      " 35  college_communication  2220 non-null   uint8\n",
      " 36  college_education      2220 non-null   uint8\n",
      " 37  college_marine         2220 non-null   uint8\n",
      " 38  orientation_a          2220 non-null   uint8\n",
      " 39  orientation_bi         2220 non-null   uint8\n",
      " 40  orientation_hete       2220 non-null   uint8\n",
      " 41  orientation_homo       2220 non-null   uint8\n",
      " 42  orientation_pan        2220 non-null   uint8\n",
      " 43  face_shape_long        2220 non-null   uint8\n",
      " 44  face_shape_round       2220 non-null   uint8\n",
      " 45  face_shape_square      2220 non-null   uint8\n",
      " 46  color_black            2220 non-null   uint8\n",
      " 47  color_fair             2220 non-null   uint8\n",
      " 48  color_healthy          2220 non-null   uint8\n",
      "dtypes: int64(22), uint8(27)\n",
      "memory usage: 440.2 KB\n"
     ]
    }
   ],
   "source": [
    "X = pd.concat([face_lasso, dummies], axis=1)\n",
    "X.info()"
   ]
  },
  {
   "cell_type": "code",
   "execution_count": 6,
   "metadata": {},
   "outputs": [],
   "source": [
    "from sklearn.model_selection import train_test_split\n",
    "\n",
    "X_train, X_test, y_train, y_test = train_test_split(X, y1, test_size=0.3, random_state=10)"
   ]
  },
  {
   "cell_type": "code",
   "execution_count": 7,
   "metadata": {},
   "outputs": [],
   "source": [
    "from sklearn.preprocessing import StandardScaler\n",
    "\n",
    "scaler = StandardScaler().fit(X_train[col_list]) \n",
    "\n",
    "X_train[col_list] = scaler.transform(X_train[col_list])\n",
    "\n",
    "X_test[col_list] = scaler.transform(X_test[col_list])"
   ]
  },
  {
   "cell_type": "code",
   "execution_count": 8,
   "metadata": {},
   "outputs": [
    {
     "data": {
      "text/html": [
       "<div>\n",
       "<style scoped>\n",
       "    .dataframe tbody tr th:only-of-type {\n",
       "        vertical-align: middle;\n",
       "    }\n",
       "\n",
       "    .dataframe tbody tr th {\n",
       "        vertical-align: top;\n",
       "    }\n",
       "\n",
       "    .dataframe thead th {\n",
       "        text-align: right;\n",
       "    }\n",
       "</style>\n",
       "<table border=\"1\" class=\"dataframe\">\n",
       "  <thead>\n",
       "    <tr style=\"text-align: right;\">\n",
       "      <th></th>\n",
       "      <th>age</th>\n",
       "      <th>male</th>\n",
       "      <th>char_positivity</th>\n",
       "      <th>char_outgoing</th>\n",
       "      <th>char_open</th>\n",
       "      <th>char_friendly</th>\n",
       "      <th>char_discipline</th>\n",
       "      <th>char_social</th>\n",
       "      <th>char_economic</th>\n",
       "      <th>face</th>\n",
       "      <th>...</th>\n",
       "      <th>orientation_bi</th>\n",
       "      <th>orientation_hete</th>\n",
       "      <th>orientation_homo</th>\n",
       "      <th>orientation_pan</th>\n",
       "      <th>face_shape_long</th>\n",
       "      <th>face_shape_round</th>\n",
       "      <th>face_shape_square</th>\n",
       "      <th>color_black</th>\n",
       "      <th>color_fair</th>\n",
       "      <th>color_healthy</th>\n",
       "    </tr>\n",
       "  </thead>\n",
       "  <tbody>\n",
       "    <tr>\n",
       "      <th>0</th>\n",
       "      <td>0.221232</td>\n",
       "      <td>0</td>\n",
       "      <td>-1.389524</td>\n",
       "      <td>-0.388617</td>\n",
       "      <td>0.697811</td>\n",
       "      <td>-0.235981</td>\n",
       "      <td>0.704579</td>\n",
       "      <td>0.729005</td>\n",
       "      <td>0.695529</td>\n",
       "      <td>0.764295</td>\n",
       "      <td>...</td>\n",
       "      <td>0</td>\n",
       "      <td>1</td>\n",
       "      <td>0</td>\n",
       "      <td>0</td>\n",
       "      <td>1</td>\n",
       "      <td>0</td>\n",
       "      <td>0</td>\n",
       "      <td>1</td>\n",
       "      <td>0</td>\n",
       "      <td>0</td>\n",
       "    </tr>\n",
       "    <tr>\n",
       "      <th>1</th>\n",
       "      <td>0.739307</td>\n",
       "      <td>0</td>\n",
       "      <td>-1.389524</td>\n",
       "      <td>-0.388617</td>\n",
       "      <td>0.697811</td>\n",
       "      <td>-1.185034</td>\n",
       "      <td>-1.354887</td>\n",
       "      <td>-1.553635</td>\n",
       "      <td>-1.615960</td>\n",
       "      <td>0.764295</td>\n",
       "      <td>...</td>\n",
       "      <td>1</td>\n",
       "      <td>0</td>\n",
       "      <td>0</td>\n",
       "      <td>0</td>\n",
       "      <td>1</td>\n",
       "      <td>0</td>\n",
       "      <td>0</td>\n",
       "      <td>1</td>\n",
       "      <td>0</td>\n",
       "      <td>0</td>\n",
       "    </tr>\n",
       "    <tr>\n",
       "      <th>2</th>\n",
       "      <td>-1.332993</td>\n",
       "      <td>1</td>\n",
       "      <td>-0.380779</td>\n",
       "      <td>-1.332524</td>\n",
       "      <td>-1.394208</td>\n",
       "      <td>-1.185034</td>\n",
       "      <td>0.704579</td>\n",
       "      <td>-0.412315</td>\n",
       "      <td>-0.460215</td>\n",
       "      <td>-0.466114</td>\n",
       "      <td>...</td>\n",
       "      <td>0</td>\n",
       "      <td>1</td>\n",
       "      <td>0</td>\n",
       "      <td>0</td>\n",
       "      <td>1</td>\n",
       "      <td>0</td>\n",
       "      <td>0</td>\n",
       "      <td>1</td>\n",
       "      <td>0</td>\n",
       "      <td>0</td>\n",
       "    </tr>\n",
       "    <tr>\n",
       "      <th>3</th>\n",
       "      <td>-1.332993</td>\n",
       "      <td>0</td>\n",
       "      <td>-1.389524</td>\n",
       "      <td>-0.388617</td>\n",
       "      <td>0.697811</td>\n",
       "      <td>-1.185034</td>\n",
       "      <td>-1.354887</td>\n",
       "      <td>-0.412315</td>\n",
       "      <td>-0.460215</td>\n",
       "      <td>-0.466114</td>\n",
       "      <td>...</td>\n",
       "      <td>0</td>\n",
       "      <td>1</td>\n",
       "      <td>0</td>\n",
       "      <td>0</td>\n",
       "      <td>1</td>\n",
       "      <td>0</td>\n",
       "      <td>0</td>\n",
       "      <td>1</td>\n",
       "      <td>0</td>\n",
       "      <td>0</td>\n",
       "    </tr>\n",
       "    <tr>\n",
       "      <th>4</th>\n",
       "      <td>0.739307</td>\n",
       "      <td>0</td>\n",
       "      <td>-1.389524</td>\n",
       "      <td>-1.332524</td>\n",
       "      <td>-0.348199</td>\n",
       "      <td>-1.185034</td>\n",
       "      <td>0.704579</td>\n",
       "      <td>-0.412315</td>\n",
       "      <td>-0.460215</td>\n",
       "      <td>0.764295</td>\n",
       "      <td>...</td>\n",
       "      <td>0</td>\n",
       "      <td>1</td>\n",
       "      <td>0</td>\n",
       "      <td>0</td>\n",
       "      <td>1</td>\n",
       "      <td>0</td>\n",
       "      <td>0</td>\n",
       "      <td>1</td>\n",
       "      <td>0</td>\n",
       "      <td>0</td>\n",
       "    </tr>\n",
       "    <tr>\n",
       "      <th>...</th>\n",
       "      <td>...</td>\n",
       "      <td>...</td>\n",
       "      <td>...</td>\n",
       "      <td>...</td>\n",
       "      <td>...</td>\n",
       "      <td>...</td>\n",
       "      <td>...</td>\n",
       "      <td>...</td>\n",
       "      <td>...</td>\n",
       "      <td>...</td>\n",
       "      <td>...</td>\n",
       "      <td>...</td>\n",
       "      <td>...</td>\n",
       "      <td>...</td>\n",
       "      <td>...</td>\n",
       "      <td>...</td>\n",
       "      <td>...</td>\n",
       "      <td>...</td>\n",
       "      <td>...</td>\n",
       "      <td>...</td>\n",
       "      <td>...</td>\n",
       "    </tr>\n",
       "    <tr>\n",
       "      <th>2215</th>\n",
       "      <td>0.221232</td>\n",
       "      <td>1</td>\n",
       "      <td>0.627967</td>\n",
       "      <td>0.555289</td>\n",
       "      <td>-0.348199</td>\n",
       "      <td>0.713072</td>\n",
       "      <td>0.704579</td>\n",
       "      <td>0.729005</td>\n",
       "      <td>0.695529</td>\n",
       "      <td>0.764295</td>\n",
       "      <td>...</td>\n",
       "      <td>0</td>\n",
       "      <td>1</td>\n",
       "      <td>0</td>\n",
       "      <td>0</td>\n",
       "      <td>1</td>\n",
       "      <td>0</td>\n",
       "      <td>0</td>\n",
       "      <td>0</td>\n",
       "      <td>1</td>\n",
       "      <td>0</td>\n",
       "    </tr>\n",
       "    <tr>\n",
       "      <th>2216</th>\n",
       "      <td>-1.332993</td>\n",
       "      <td>1</td>\n",
       "      <td>0.627967</td>\n",
       "      <td>-0.388617</td>\n",
       "      <td>-2.440217</td>\n",
       "      <td>-0.235981</td>\n",
       "      <td>0.704579</td>\n",
       "      <td>1.870326</td>\n",
       "      <td>1.851274</td>\n",
       "      <td>1.994704</td>\n",
       "      <td>...</td>\n",
       "      <td>0</td>\n",
       "      <td>1</td>\n",
       "      <td>0</td>\n",
       "      <td>0</td>\n",
       "      <td>1</td>\n",
       "      <td>0</td>\n",
       "      <td>0</td>\n",
       "      <td>0</td>\n",
       "      <td>1</td>\n",
       "      <td>0</td>\n",
       "    </tr>\n",
       "    <tr>\n",
       "      <th>2217</th>\n",
       "      <td>-1.332993</td>\n",
       "      <td>0</td>\n",
       "      <td>-0.380779</td>\n",
       "      <td>1.499196</td>\n",
       "      <td>-2.440217</td>\n",
       "      <td>0.713072</td>\n",
       "      <td>1.734312</td>\n",
       "      <td>0.729005</td>\n",
       "      <td>0.695529</td>\n",
       "      <td>-1.696524</td>\n",
       "      <td>...</td>\n",
       "      <td>0</td>\n",
       "      <td>1</td>\n",
       "      <td>0</td>\n",
       "      <td>0</td>\n",
       "      <td>1</td>\n",
       "      <td>0</td>\n",
       "      <td>0</td>\n",
       "      <td>0</td>\n",
       "      <td>1</td>\n",
       "      <td>0</td>\n",
       "    </tr>\n",
       "    <tr>\n",
       "      <th>2218</th>\n",
       "      <td>-1.851069</td>\n",
       "      <td>0</td>\n",
       "      <td>-0.380779</td>\n",
       "      <td>0.555289</td>\n",
       "      <td>0.697811</td>\n",
       "      <td>-1.185034</td>\n",
       "      <td>-0.325154</td>\n",
       "      <td>-1.553635</td>\n",
       "      <td>-0.460215</td>\n",
       "      <td>0.764295</td>\n",
       "      <td>...</td>\n",
       "      <td>1</td>\n",
       "      <td>0</td>\n",
       "      <td>0</td>\n",
       "      <td>0</td>\n",
       "      <td>1</td>\n",
       "      <td>0</td>\n",
       "      <td>0</td>\n",
       "      <td>0</td>\n",
       "      <td>1</td>\n",
       "      <td>0</td>\n",
       "    </tr>\n",
       "    <tr>\n",
       "      <th>2219</th>\n",
       "      <td>-0.296843</td>\n",
       "      <td>0</td>\n",
       "      <td>0.627967</td>\n",
       "      <td>-0.388617</td>\n",
       "      <td>-0.348199</td>\n",
       "      <td>-0.235981</td>\n",
       "      <td>0.704579</td>\n",
       "      <td>-0.412315</td>\n",
       "      <td>-0.460215</td>\n",
       "      <td>1.994704</td>\n",
       "      <td>...</td>\n",
       "      <td>0</td>\n",
       "      <td>1</td>\n",
       "      <td>0</td>\n",
       "      <td>0</td>\n",
       "      <td>1</td>\n",
       "      <td>0</td>\n",
       "      <td>0</td>\n",
       "      <td>0</td>\n",
       "      <td>1</td>\n",
       "      <td>0</td>\n",
       "    </tr>\n",
       "  </tbody>\n",
       "</table>\n",
       "<p>2220 rows × 49 columns</p>\n",
       "</div>"
      ],
      "text/plain": [
       "           age  male  char_positivity  char_outgoing  char_open  \\\n",
       "0     0.221232     0        -1.389524      -0.388617   0.697811   \n",
       "1     0.739307     0        -1.389524      -0.388617   0.697811   \n",
       "2    -1.332993     1        -0.380779      -1.332524  -1.394208   \n",
       "3    -1.332993     0        -1.389524      -0.388617   0.697811   \n",
       "4     0.739307     0        -1.389524      -1.332524  -0.348199   \n",
       "...        ...   ...              ...            ...        ...   \n",
       "2215  0.221232     1         0.627967       0.555289  -0.348199   \n",
       "2216 -1.332993     1         0.627967      -0.388617  -2.440217   \n",
       "2217 -1.332993     0        -0.380779       1.499196  -2.440217   \n",
       "2218 -1.851069     0        -0.380779       0.555289   0.697811   \n",
       "2219 -0.296843     0         0.627967      -0.388617  -0.348199   \n",
       "\n",
       "      char_friendly  char_discipline  char_social  char_economic      face  \\\n",
       "0         -0.235981         0.704579     0.729005       0.695529  0.764295   \n",
       "1         -1.185034        -1.354887    -1.553635      -1.615960  0.764295   \n",
       "2         -1.185034         0.704579    -0.412315      -0.460215 -0.466114   \n",
       "3         -1.185034        -1.354887    -0.412315      -0.460215 -0.466114   \n",
       "4         -1.185034         0.704579    -0.412315      -0.460215  0.764295   \n",
       "...             ...              ...          ...            ...       ...   \n",
       "2215       0.713072         0.704579     0.729005       0.695529  0.764295   \n",
       "2216      -0.235981         0.704579     1.870326       1.851274  1.994704   \n",
       "2217       0.713072         1.734312     0.729005       0.695529 -1.696524   \n",
       "2218      -1.185034        -0.325154    -1.553635      -0.460215  0.764295   \n",
       "2219      -0.235981         0.704579    -0.412315      -0.460215  1.994704   \n",
       "\n",
       "      ...  orientation_bi  orientation_hete  orientation_homo  \\\n",
       "0     ...               0                 1                 0   \n",
       "1     ...               1                 0                 0   \n",
       "2     ...               0                 1                 0   \n",
       "3     ...               0                 1                 0   \n",
       "4     ...               0                 1                 0   \n",
       "...   ...             ...               ...               ...   \n",
       "2215  ...               0                 1                 0   \n",
       "2216  ...               0                 1                 0   \n",
       "2217  ...               0                 1                 0   \n",
       "2218  ...               1                 0                 0   \n",
       "2219  ...               0                 1                 0   \n",
       "\n",
       "      orientation_pan  face_shape_long  face_shape_round  face_shape_square  \\\n",
       "0                   0                1                 0                  0   \n",
       "1                   0                1                 0                  0   \n",
       "2                   0                1                 0                  0   \n",
       "3                   0                1                 0                  0   \n",
       "4                   0                1                 0                  0   \n",
       "...               ...              ...               ...                ...   \n",
       "2215                0                1                 0                  0   \n",
       "2216                0                1                 0                  0   \n",
       "2217                0                1                 0                  0   \n",
       "2218                0                1                 0                  0   \n",
       "2219                0                1                 0                  0   \n",
       "\n",
       "      color_black  color_fair  color_healthy  \n",
       "0               1           0              0  \n",
       "1               1           0              0  \n",
       "2               1           0              0  \n",
       "3               1           0              0  \n",
       "4               1           0              0  \n",
       "...           ...         ...            ...  \n",
       "2215            0           1              0  \n",
       "2216            0           1              0  \n",
       "2217            0           1              0  \n",
       "2218            0           1              0  \n",
       "2219            0           1              0  \n",
       "\n",
       "[2220 rows x 49 columns]"
      ]
     },
     "execution_count": 8,
     "metadata": {},
     "output_type": "execute_result"
    }
   ],
   "source": [
    "from sklearn.preprocessing import StandardScaler\n",
    "scaler = StandardScaler().fit(X[col_list]) \n",
    "X[col_list] = scaler.transform(X[col_list])\n",
    "X"
   ]
  },
  {
   "cell_type": "code",
   "execution_count": 9,
   "metadata": {},
   "outputs": [
    {
     "data": {
      "text/html": [
       "<style>#sk-container-id-1 {color: black;background-color: white;}#sk-container-id-1 pre{padding: 0;}#sk-container-id-1 div.sk-toggleable {background-color: white;}#sk-container-id-1 label.sk-toggleable__label {cursor: pointer;display: block;width: 100%;margin-bottom: 0;padding: 0.3em;box-sizing: border-box;text-align: center;}#sk-container-id-1 label.sk-toggleable__label-arrow:before {content: \"▸\";float: left;margin-right: 0.25em;color: #696969;}#sk-container-id-1 label.sk-toggleable__label-arrow:hover:before {color: black;}#sk-container-id-1 div.sk-estimator:hover label.sk-toggleable__label-arrow:before {color: black;}#sk-container-id-1 div.sk-toggleable__content {max-height: 0;max-width: 0;overflow: hidden;text-align: left;background-color: #f0f8ff;}#sk-container-id-1 div.sk-toggleable__content pre {margin: 0.2em;color: black;border-radius: 0.25em;background-color: #f0f8ff;}#sk-container-id-1 input.sk-toggleable__control:checked~div.sk-toggleable__content {max-height: 200px;max-width: 100%;overflow: auto;}#sk-container-id-1 input.sk-toggleable__control:checked~label.sk-toggleable__label-arrow:before {content: \"▾\";}#sk-container-id-1 div.sk-estimator input.sk-toggleable__control:checked~label.sk-toggleable__label {background-color: #d4ebff;}#sk-container-id-1 div.sk-label input.sk-toggleable__control:checked~label.sk-toggleable__label {background-color: #d4ebff;}#sk-container-id-1 input.sk-hidden--visually {border: 0;clip: rect(1px 1px 1px 1px);clip: rect(1px, 1px, 1px, 1px);height: 1px;margin: -1px;overflow: hidden;padding: 0;position: absolute;width: 1px;}#sk-container-id-1 div.sk-estimator {font-family: monospace;background-color: #f0f8ff;border: 1px dotted black;border-radius: 0.25em;box-sizing: border-box;margin-bottom: 0.5em;}#sk-container-id-1 div.sk-estimator:hover {background-color: #d4ebff;}#sk-container-id-1 div.sk-parallel-item::after {content: \"\";width: 100%;border-bottom: 1px solid gray;flex-grow: 1;}#sk-container-id-1 div.sk-label:hover label.sk-toggleable__label {background-color: #d4ebff;}#sk-container-id-1 div.sk-serial::before {content: \"\";position: absolute;border-left: 1px solid gray;box-sizing: border-box;top: 0;bottom: 0;left: 50%;z-index: 0;}#sk-container-id-1 div.sk-serial {display: flex;flex-direction: column;align-items: center;background-color: white;padding-right: 0.2em;padding-left: 0.2em;position: relative;}#sk-container-id-1 div.sk-item {position: relative;z-index: 1;}#sk-container-id-1 div.sk-parallel {display: flex;align-items: stretch;justify-content: center;background-color: white;position: relative;}#sk-container-id-1 div.sk-item::before, #sk-container-id-1 div.sk-parallel-item::before {content: \"\";position: absolute;border-left: 1px solid gray;box-sizing: border-box;top: 0;bottom: 0;left: 50%;z-index: -1;}#sk-container-id-1 div.sk-parallel-item {display: flex;flex-direction: column;z-index: 1;position: relative;background-color: white;}#sk-container-id-1 div.sk-parallel-item:first-child::after {align-self: flex-end;width: 50%;}#sk-container-id-1 div.sk-parallel-item:last-child::after {align-self: flex-start;width: 50%;}#sk-container-id-1 div.sk-parallel-item:only-child::after {width: 0;}#sk-container-id-1 div.sk-dashed-wrapped {border: 1px dashed gray;margin: 0 0.4em 0.5em 0.4em;box-sizing: border-box;padding-bottom: 0.4em;background-color: white;}#sk-container-id-1 div.sk-label label {font-family: monospace;font-weight: bold;display: inline-block;line-height: 1.2em;}#sk-container-id-1 div.sk-label-container {text-align: center;}#sk-container-id-1 div.sk-container {/* jupyter's `normalize.less` sets `[hidden] { display: none; }` but bootstrap.min.css set `[hidden] { display: none !important; }` so we also need the `!important` here to be able to override the default hidden behavior on the sphinx rendered scikit-learn.org. See: https://github.com/scikit-learn/scikit-learn/issues/21755 */display: inline-block !important;position: relative;}#sk-container-id-1 div.sk-text-repr-fallback {display: none;}</style><div id=\"sk-container-id-1\" class=\"sk-top-container\"><div class=\"sk-text-repr-fallback\"><pre>Lasso(alpha=1)</pre><b>In a Jupyter environment, please rerun this cell to show the HTML representation or trust the notebook. <br />On GitHub, the HTML representation is unable to render, please try loading this page with nbviewer.org.</b></div><div class=\"sk-container\" hidden><div class=\"sk-item\"><div class=\"sk-estimator sk-toggleable\"><input class=\"sk-toggleable__control sk-hidden--visually\" id=\"sk-estimator-id-1\" type=\"checkbox\" checked><label for=\"sk-estimator-id-1\" class=\"sk-toggleable__label sk-toggleable__label-arrow\">Lasso</label><div class=\"sk-toggleable__content\"><pre>Lasso(alpha=1)</pre></div></div></div></div></div>"
      ],
      "text/plain": [
       "Lasso(alpha=1)"
      ]
     },
     "execution_count": 9,
     "metadata": {},
     "output_type": "execute_result"
    }
   ],
   "source": [
    "from sklearn.linear_model import Lasso\n",
    "reg = Lasso(alpha=1)\n",
    "reg.fit(X_train, y_train)"
   ]
  },
  {
   "cell_type": "code",
   "execution_count": 10,
   "metadata": {},
   "outputs": [
    {
     "name": "stdout",
     "output_type": "stream",
     "text": [
      "R squared training set 0.0\n",
      "R squared test set -0.17\n"
     ]
    }
   ],
   "source": [
    "print('R squared training set', round(reg.score(X_train, y_train)*100, 2))\n",
    "print('R squared test set', round(reg.score(X_test, y_test)*100, 2))"
   ]
  },
  {
   "cell_type": "code",
   "execution_count": 11,
   "metadata": {},
   "outputs": [
    {
     "name": "stdout",
     "output_type": "stream",
     "text": [
      "MSE training set 0.83\n",
      "MSE test set 0.86\n"
     ]
    }
   ],
   "source": [
    "from sklearn.metrics import mean_squared_error\n",
    "\n",
    "# Training data\n",
    "pred_train = reg.predict(X_train)\n",
    "mse_train = mean_squared_error(y_train, pred_train)\n",
    "print('MSE training set', round(mse_train, 2))\n",
    "\n",
    "# Test data\n",
    "pred = reg.predict(X_test)\n",
    "mse_test =mean_squared_error(y_test, pred)\n",
    "print('MSE test set', round(mse_test, 2))"
   ]
  },
  {
   "cell_type": "code",
   "execution_count": 12,
   "metadata": {},
   "outputs": [
    {
     "data": {
      "text/plain": [
       "Text(0.5, 1.0, 'Lasso coefficients as a function of alpha')"
      ]
     },
     "execution_count": 12,
     "metadata": {},
     "output_type": "execute_result"
    },
    {
     "data": {
      "image/png": "[encoded data removed]",
      "text/plain": [
       "<Figure size 640x480 with 1 Axes>"
      ]
     },
     "metadata": {},
     "output_type": "display_data"
    }
   ],
   "source": [
    "import numpy as np\n",
    "import matplotlib.pyplot as plt\n",
    "\n",
    "alphas = np.linspace(0.01,500,100)\n",
    "lasso = Lasso(max_iter=10000)\n",
    "coefs = []\n",
    "\n",
    "for a in alphas:\n",
    "    lasso.set_params(alpha=a)\n",
    "    lasso.fit(X_train, y_train)\n",
    "    coefs.append(lasso.coef_)\n",
    "\n",
    "ax = plt.gca()\n",
    "\n",
    "ax.plot(alphas, coefs)\n",
    "ax.set_xscale('log')\n",
    "plt.axis('tight')\n",
    "plt.xlabel('alpha')\n",
    "plt.ylabel('Standardized Coefficients')\n",
    "plt.title('Lasso coefficients as a function of alpha')"
   ]
  },
  {
   "cell_type": "code",
   "execution_count": 20,
   "metadata": {},
   "outputs": [
    {
     "data": {
      "text/html": [
       "<style>#sk-container-id-4 {color: black;background-color: white;}#sk-container-id-4 pre{padding: 0;}#sk-container-id-4 div.sk-toggleable {background-color: white;}#sk-container-id-4 label.sk-toggleable__label {cursor: pointer;display: block;width: 100%;margin-bottom: 0;padding: 0.3em;box-sizing: border-box;text-align: center;}#sk-container-id-4 label.sk-toggleable__label-arrow:before {content: \"▸\";float: left;margin-right: 0.25em;color: #696969;}#sk-container-id-4 label.sk-toggleable__label-arrow:hover:before {color: black;}#sk-container-id-4 div.sk-estimator:hover label.sk-toggleable__label-arrow:before {color: black;}#sk-container-id-4 div.sk-toggleable__content {max-height: 0;max-width: 0;overflow: hidden;text-align: left;background-color: #f0f8ff;}#sk-container-id-4 div.sk-toggleable__content pre {margin: 0.2em;color: black;border-radius: 0.25em;background-color: #f0f8ff;}#sk-container-id-4 input.sk-toggleable__control:checked~div.sk-toggleable__content {max-height: 200px;max-width: 100%;overflow: auto;}#sk-container-id-4 input.sk-toggleable__control:checked~label.sk-toggleable__label-arrow:before {content: \"▾\";}#sk-container-id-4 div.sk-estimator input.sk-toggleable__control:checked~label.sk-toggleable__label {background-color: #d4ebff;}#sk-container-id-4 div.sk-label input.sk-toggleable__control:checked~label.sk-toggleable__label {background-color: #d4ebff;}#sk-container-id-4 input.sk-hidden--visually {border: 0;clip: rect(1px 1px 1px 1px);clip: rect(1px, 1px, 1px, 1px);height: 1px;margin: -1px;overflow: hidden;padding: 0;position: absolute;width: 1px;}#sk-container-id-4 div.sk-estimator {font-family: monospace;background-color: #f0f8ff;border: 1px dotted black;border-radius: 0.25em;box-sizing: border-box;margin-bottom: 0.5em;}#sk-container-id-4 div.sk-estimator:hover {background-color: #d4ebff;}#sk-container-id-4 div.sk-parallel-item::after {content: \"\";width: 100%;border-bottom: 1px solid gray;flex-grow: 1;}#sk-container-id-4 div.sk-label:hover label.sk-toggleable__label {background-color: #d4ebff;}#sk-container-id-4 div.sk-serial::before {content: \"\";position: absolute;border-left: 1px solid gray;box-sizing: border-box;top: 0;bottom: 0;left: 50%;z-index: 0;}#sk-container-id-4 div.sk-serial {display: flex;flex-direction: column;align-items: center;background-color: white;padding-right: 0.2em;padding-left: 0.2em;position: relative;}#sk-container-id-4 div.sk-item {position: relative;z-index: 1;}#sk-container-id-4 div.sk-parallel {display: flex;align-items: stretch;justify-content: center;background-color: white;position: relative;}#sk-container-id-4 div.sk-item::before, #sk-container-id-4 div.sk-parallel-item::before {content: \"\";position: absolute;border-left: 1px solid gray;box-sizing: border-box;top: 0;bottom: 0;left: 50%;z-index: -1;}#sk-container-id-4 div.sk-parallel-item {display: flex;flex-direction: column;z-index: 1;position: relative;background-color: white;}#sk-container-id-4 div.sk-parallel-item:first-child::after {align-self: flex-end;width: 50%;}#sk-container-id-4 div.sk-parallel-item:last-child::after {align-self: flex-start;width: 50%;}#sk-container-id-4 div.sk-parallel-item:only-child::after {width: 0;}#sk-container-id-4 div.sk-dashed-wrapped {border: 1px dashed gray;margin: 0 0.4em 0.5em 0.4em;box-sizing: border-box;padding-bottom: 0.4em;background-color: white;}#sk-container-id-4 div.sk-label label {font-family: monospace;font-weight: bold;display: inline-block;line-height: 1.2em;}#sk-container-id-4 div.sk-label-container {text-align: center;}#sk-container-id-4 div.sk-container {/* jupyter's `normalize.less` sets `[hidden] { display: none; }` but bootstrap.min.css set `[hidden] { display: none !important; }` so we also need the `!important` here to be able to override the default hidden behavior on the sphinx rendered scikit-learn.org. See: https://github.com/scikit-learn/scikit-learn/issues/21755 */display: inline-block !important;position: relative;}#sk-container-id-4 div.sk-text-repr-fallback {display: none;}</style><div id=\"sk-container-id-4\" class=\"sk-top-container\"><div class=\"sk-text-repr-fallback\"><pre>LassoCV(cv=5, max_iter=10000, random_state=0)</pre><b>In a Jupyter environment, please rerun this cell to show the HTML representation or trust the notebook. <br />On GitHub, the HTML representation is unable to render, please try loading this page with nbviewer.org.</b></div><div class=\"sk-container\" hidden><div class=\"sk-item\"><div class=\"sk-estimator sk-toggleable\"><input class=\"sk-toggleable__control sk-hidden--visually\" id=\"sk-estimator-id-4\" type=\"checkbox\" checked><label for=\"sk-estimator-id-4\" class=\"sk-toggleable__label sk-toggleable__label-arrow\">LassoCV</label><div class=\"sk-toggleable__content\"><pre>LassoCV(cv=5, max_iter=10000, random_state=0)</pre></div></div></div></div></div>"
      ],
      "text/plain": [
       "LassoCV(cv=5, max_iter=10000, random_state=0)"
      ]
     },
     "execution_count": 20,
     "metadata": {},
     "output_type": "execute_result"
    }
   ],
   "source": [
    "from sklearn.linear_model import LassoCV\n",
    "\n",
    "# Lasso with 5 fold cross-validation\n",
    "model = LassoCV(cv=5, random_state=0, max_iter=10000)\n",
    "\n",
    "# Fit model\n",
    "model.fit(X, y1)"
   ]
  },
  {
   "cell_type": "code",
   "execution_count": 21,
   "metadata": {},
   "outputs": [
    {
     "data": {
      "text/plain": [
       "0.0013370274999297766"
      ]
     },
     "execution_count": 21,
     "metadata": {},
     "output_type": "execute_result"
    }
   ],
   "source": [
    "model.alpha_"
   ]
  },
  {
   "cell_type": "code",
   "execution_count": 22,
   "metadata": {},
   "outputs": [
    {
     "data": {
      "text/html": [
       "<style>#sk-container-id-5 {color: black;background-color: white;}#sk-container-id-5 pre{padding: 0;}#sk-container-id-5 div.sk-toggleable {background-color: white;}#sk-container-id-5 label.sk-toggleable__label {cursor: pointer;display: block;width: 100%;margin-bottom: 0;padding: 0.3em;box-sizing: border-box;text-align: center;}#sk-container-id-5 label.sk-toggleable__label-arrow:before {content: \"▸\";float: left;margin-right: 0.25em;color: #696969;}#sk-container-id-5 label.sk-toggleable__label-arrow:hover:before {color: black;}#sk-container-id-5 div.sk-estimator:hover label.sk-toggleable__label-arrow:before {color: black;}#sk-container-id-5 div.sk-toggleable__content {max-height: 0;max-width: 0;overflow: hidden;text-align: left;background-color: #f0f8ff;}#sk-container-id-5 div.sk-toggleable__content pre {margin: 0.2em;color: black;border-radius: 0.25em;background-color: #f0f8ff;}#sk-container-id-5 input.sk-toggleable__control:checked~div.sk-toggleable__content {max-height: 200px;max-width: 100%;overflow: auto;}#sk-container-id-5 input.sk-toggleable__control:checked~label.sk-toggleable__label-arrow:before {content: \"▾\";}#sk-container-id-5 div.sk-estimator input.sk-toggleable__control:checked~label.sk-toggleable__label {background-color: #d4ebff;}#sk-container-id-5 div.sk-label input.sk-toggleable__control:checked~label.sk-toggleable__label {background-color: #d4ebff;}#sk-container-id-5 input.sk-hidden--visually {border: 0;clip: rect(1px 1px 1px 1px);clip: rect(1px, 1px, 1px, 1px);height: 1px;margin: -1px;overflow: hidden;padding: 0;position: absolute;width: 1px;}#sk-container-id-5 div.sk-estimator {font-family: monospace;background-color: #f0f8ff;border: 1px dotted black;border-radius: 0.25em;box-sizing: border-box;margin-bottom: 0.5em;}#sk-container-id-5 div.sk-estimator:hover {background-color: #d4ebff;}#sk-container-id-5 div.sk-parallel-item::after {content: \"\";width: 100%;border-bottom: 1px solid gray;flex-grow: 1;}#sk-container-id-5 div.sk-label:hover label.sk-toggleable__label {background-color: #d4ebff;}#sk-container-id-5 div.sk-serial::before {content: \"\";position: absolute;border-left: 1px solid gray;box-sizing: border-box;top: 0;bottom: 0;left: 50%;z-index: 0;}#sk-container-id-5 div.sk-serial {display: flex;flex-direction: column;align-items: center;background-color: white;padding-right: 0.2em;padding-left: 0.2em;position: relative;}#sk-container-id-5 div.sk-item {position: relative;z-index: 1;}#sk-container-id-5 div.sk-parallel {display: flex;align-items: stretch;justify-content: center;background-color: white;position: relative;}#sk-container-id-5 div.sk-item::before, #sk-container-id-5 div.sk-parallel-item::before {content: \"\";position: absolute;border-left: 1px solid gray;box-sizing: border-box;top: 0;bottom: 0;left: 50%;z-index: -1;}#sk-container-id-5 div.sk-parallel-item {display: flex;flex-direction: column;z-index: 1;position: relative;background-color: white;}#sk-container-id-5 div.sk-parallel-item:first-child::after {align-self: flex-end;width: 50%;}#sk-container-id-5 div.sk-parallel-item:last-child::after {align-self: flex-start;width: 50%;}#sk-container-id-5 div.sk-parallel-item:only-child::after {width: 0;}#sk-container-id-5 div.sk-dashed-wrapped {border: 1px dashed gray;margin: 0 0.4em 0.5em 0.4em;box-sizing: border-box;padding-bottom: 0.4em;background-color: white;}#sk-container-id-5 div.sk-label label {font-family: monospace;font-weight: bold;display: inline-block;line-height: 1.2em;}#sk-container-id-5 div.sk-label-container {text-align: center;}#sk-container-id-5 div.sk-container {/* jupyter's `normalize.less` sets `[hidden] { display: none; }` but bootstrap.min.css set `[hidden] { display: none !important; }` so we also need the `!important` here to be able to override the default hidden behavior on the sphinx rendered scikit-learn.org. See: https://github.com/scikit-learn/scikit-learn/issues/21755 */display: inline-block !important;position: relative;}#sk-container-id-5 div.sk-text-repr-fallback {display: none;}</style><div id=\"sk-container-id-5\" class=\"sk-top-container\"><div class=\"sk-text-repr-fallback\"><pre>Lasso(alpha=0.0013370274999297766)</pre><b>In a Jupyter environment, please rerun this cell to show the HTML representation or trust the notebook. <br />On GitHub, the HTML representation is unable to render, please try loading this page with nbviewer.org.</b></div><div class=\"sk-container\" hidden><div class=\"sk-item\"><div class=\"sk-estimator sk-toggleable\"><input class=\"sk-toggleable__control sk-hidden--visually\" id=\"sk-estimator-id-5\" type=\"checkbox\" checked><label for=\"sk-estimator-id-5\" class=\"sk-toggleable__label sk-toggleable__label-arrow\">Lasso</label><div class=\"sk-toggleable__content\"><pre>Lasso(alpha=0.0013370274999297766)</pre></div></div></div></div></div>"
      ],
      "text/plain": [
       "Lasso(alpha=0.0013370274999297766)"
      ]
     },
     "execution_count": 22,
     "metadata": {},
     "output_type": "execute_result"
    }
   ],
   "source": [
    "lasso_best = Lasso(alpha=model.alpha_)\n",
    "lasso_best.fit(X, y1)"
   ]
  },
  {
   "cell_type": "code",
   "execution_count": 23,
   "metadata": {},
   "outputs": [
    {
     "name": "stdout",
     "output_type": "stream",
     "text": [
      "[(0.014960026323127934, 'age'), (0.09700333307771757, 'male'), (0.10101920706080598, 'char_positivity'), (-0.08518507768614567, 'char_outgoing'), (0.015267099678494227, 'char_open'), (0.04642289794746305, 'char_friendly'), (0.01367772069880112, 'char_discipline'), (0.02493256596673421, 'char_social'), (-0.01746809440016941, 'char_economic'), (0.01842469531468874, 'face'), (0.025847778036980223, 'nose'), (0.08029006891758333, 'eyes'), (0.05106515074264332, 'mouth'), (0.2571289848963659, 'overall_feature'), (0.026912461036614668, 'skin'), (0.13979155503404764, 'hair'), (0.038889428289982896, 'acne'), (-0.20281098865738337, 'glasses'), (0.14027603485360096, 'double_eyelid'), (-0.004473338696398403, 'thick_eyebrow'), (-0.0, 'thick_lip'), (-0.0, 'long_hair'), (0.0018421666666602152, 'college_1'), (-0.13611109507301838, 'college_2'), (0.005181810826211249, 'college_3'), (-0.05280600692068512, 'college_4'), (-0.03527786571592191, 'college_5'), (0.0174649138337119, 'college_6'), (0.08812025138137349, 'college_7'), (-0.0, 'college_8'), (0.031893293770249694, 'college_9'), (-0.030154782228102885, 'college_A'), (0.0, 'college_B'), (0.0, 'college_I'), (-0.0, 'college_art'), (0.0, 'college_communication'), (-0.0, 'college_education'), (-0.1701057996916683, 'college_marine'), (-0.0, 'orientation_a'), (0.13607146641393553, 'orientation_bi'), (0.05138084838912118, 'orientation_hete'), (-0.09932339457578321, 'orientation_homo'), (-0.0, 'orientation_pan'), (-0.0, 'face_shape_long'), (-0.0, 'face_shape_round'), (0.0, 'face_shape_square'), (-0.09739334617724017, 'color_black'), (0.10144774872027977, 'color_fair'), (0.0, 'color_healthy')]\n"
     ]
    }
   ],
   "source": [
    "print(list(zip(lasso_best.coef_, X)))"
   ]
  },
  {
   "cell_type": "code",
   "execution_count": 24,
   "metadata": {},
   "outputs": [
    {
     "name": "stdout",
     "output_type": "stream",
     "text": [
      "R squared training set 50.28\n",
      "R squared test set 47.94\n"
     ]
    }
   ],
   "source": [
    "print('R squared training set', round(lasso_best.score(X_train, y_train)*100, 2))\n",
    "print('R squared test set', round(lasso_best.score(X_test, y_test)*100, 2))"
   ]
  },
  {
   "cell_type": "code",
   "execution_count": 25,
   "metadata": {},
   "outputs": [
    {
     "data": {
      "text/plain": [
       "0.44576058368003807"
      ]
     },
     "execution_count": 25,
     "metadata": {},
     "output_type": "execute_result"
    }
   ],
   "source": [
    "mean_squared_error(y_test, lasso_best.predict(X_test))"
   ]
  },
  {
   "cell_type": "code",
   "execution_count": 26,
   "metadata": {},
   "outputs": [
    {
     "name": "stdout",
     "output_type": "stream",
     "text": [
      "35\n"
     ]
    }
   ],
   "source": [
    "print(np.count_nonzero(model.coef_))"
   ]
  }
 ],
 "metadata": {
  "kernelspec": {
   "display_name": "Python 3",
   "language": "python",
   "name": "python3"
  },
  "language_info": {
   "codemirror_mode": {
    "name": "ipython",
    "version": 3
   },
   "file_extension": ".py",
   "mimetype": "text/x-python",
   "name": "python",
   "nbconvert_exporter": "python",
   "pygments_lexer": "ipython3",
   "version": "3.10.6"
  },
  "orig_nbformat": 4,
  "vscode": {
   "interpreter": {
    "hash": "aee8b7b246df8f9039afb4144a1f6fd8d2ca17a180786b69acc140d282b71a49"
   }
  }
 },
 "nbformat": 4,
 "nbformat_minor": 2
}
