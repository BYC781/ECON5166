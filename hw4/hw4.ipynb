{
 "cells": [
  {
   "cell_type": "code",
   "execution_count": 5,
   "metadata": {},
   "outputs": [],
   "source": [
    "import numpy as np\n",
    "import scipy\n",
    "from sympy import diff, Symbol\n",
    "import matplotlib.pyplot as plt"
   ]
  },
  {
   "cell_type": "code",
   "execution_count": 6,
   "metadata": {},
   "outputs": [
    {
     "name": "stdout",
     "output_type": "stream",
     "text": [
      "0.2*x**3 + 0.3*x**2 - 1.5*x - 1\n",
      "0.6*x**2 + 0.6*x - 1.5\n"
     ]
    }
   ],
   "source": [
    "# 求導函數公式\n",
    "x = Symbol('x')\n",
    "y = 0.05*(x)**4 + 0.1*(x)**3 - 0.75*(x)**2 -x +3\n",
    "print(diff(y))\n",
    "print(diff(diff(y)))"
   ]
  },
  {
   "cell_type": "code",
   "execution_count": 7,
   "metadata": {},
   "outputs": [],
   "source": [
    "# 建立導函數及二階導函數\n",
    "def dfdx(x):\n",
    "    ans = 0.2*x**3 + 0.3*x**2 - 1.5*x - 1\n",
    "    return ans\n",
    "\n",
    "def d2fdx2(x):\n",
    "    ans = 0.6*x**2 + 0.6*x - 1.5\n",
    "    return ans"
   ]
  },
  {
   "cell_type": "code",
   "execution_count": 8,
   "metadata": {},
   "outputs": [
    {
     "data": {
      "text/plain": [
       "[<matplotlib.lines.Line2D at 0x12791e680>]"
      ]
     },
     "execution_count": 8,
     "metadata": {},
     "output_type": "execute_result"
    },
    {
     "data": {
      "image/png": "[encoded data removed]",
      "text/plain": [
       "<Figure size 640x480 with 1 Axes>"
      ]
     },
     "metadata": {},
     "output_type": "display_data"
    }
   ],
   "source": [
    "# (a)小題 \n",
    "x = np.linspace(-5,5,100)\n",
    "y = 0.05*(x)**4 + 0.1*(x)**3 - 0.75*(x)**2 -x +3\n",
    "plt.plot(x,y, 'r')"
   ]
  },
  {
   "cell_type": "code",
   "execution_count": 9,
   "metadata": {},
   "outputs": [
    {
     "name": "stdout",
     "output_type": "stream",
     "text": [
      "2.4310701658402367\n"
     ]
    }
   ],
   "source": [
    "# (b)\n",
    "xk = 5\n",
    "for k in range(1000):\n",
    "    xk -=  dfdx(xk) / d2fdx2(xk)\n",
    "print(xk)\n"
   ]
  },
  {
   "cell_type": "code",
   "execution_count": 10,
   "metadata": {},
   "outputs": [
    {
     "name": "stdout",
     "output_type": "stream",
     "text": [
      "-0.6214291487798939\n"
     ]
    }
   ],
   "source": [
    "# (c)\n",
    "xk = -1\n",
    "for k in range(1000):\n",
    "    xk -=  dfdx(xk) / d2fdx2(xk)\n",
    "print(xk)"
   ]
  },
  {
   "cell_type": "code",
   "execution_count": 11,
   "metadata": {},
   "outputs": [],
   "source": [
    "# (f) 建立導函數及二階導函數\n",
    "x_i = [3,3,2,2,4,2,4,4,3,1]\n",
    "def dldu(u):\n",
    "    ans = sum(x_i) / len(x_i) - u\n",
    "    return ans\n",
    "\n",
    "def d2ldu2(u):\n",
    "    ans = -1\n",
    "    return ans"
   ]
  },
  {
   "cell_type": "code",
   "execution_count": 12,
   "metadata": {},
   "outputs": [
    {
     "name": "stdout",
     "output_type": "stream",
     "text": [
      "2.7999999999999545\n",
      "2.8\n",
      "2.8\n",
      "2.8\n",
      "2.8\n"
     ]
    }
   ],
   "source": [
    "# (f) 找minimum iter = 2的時候即收斂至global maximum\n",
    "xk = 1000\n",
    "for k in range(5):\n",
    "    xk -=  dldu(xk) / d2ldu2(xk)\n",
    "    print(xk)"
   ]
  },
  {
   "cell_type": "code",
   "execution_count": 13,
   "metadata": {},
   "outputs": [
    {
     "data": {
      "text/plain": [
       "array([0.01, 0.06, 0.  , 0.05, 0.12, 0.05, 0.03, 0.01, 0.01, 0.03, 0.03,\n",
       "       0.05, 0.03, 0.02, 0.12, 0.1 , 0.1 , 0.02, 0.02, 0.  , 0.04, 0.01,\n",
       "       0.04, 0.01, 0.01, 0.07, 0.12, 0.02, 0.04, 0.03, 0.02, 0.02, 0.08,\n",
       "       0.01, 0.12, 0.01, 0.01, 0.06, 0.03, 0.04, 0.02, 0.  , 0.07, 0.02,\n",
       "       0.01, 0.06, 0.11, 0.03, 0.04, 0.02, 0.04, 0.07, 0.  , 0.02, 0.  ,\n",
       "       0.09, 0.01, 0.03, 0.02, 0.01, 0.05, 0.01, 0.04, 0.02, 0.01, 0.08,\n",
       "       0.02, 0.  , 0.02, 0.04, 0.05, 0.05, 0.01, 0.05, 0.04, 0.09, 0.02,\n",
       "       0.02, 0.05, 0.12, 0.05, 0.07, 0.  , 0.11, 0.01, 0.04, 0.  , 0.02,\n",
       "       0.06, 0.01, 0.08, 0.06, 0.07, 0.02, 0.06, 0.03, 0.03, 0.09, 0.03,\n",
       "       0.03, 0.01, 0.02, 0.05, 0.09, 0.05, 0.04, 0.01, 0.  , 0.02, 0.04,\n",
       "       0.02, 0.14, 0.02, 0.03, 0.02, 0.04, 0.  , 0.01, 0.04, 0.03, 0.03,\n",
       "       0.1 , 0.05, 0.05, 0.05, 0.05, 0.01, 0.12, 0.04, 0.05, 0.01, 0.04,\n",
       "       0.05, 0.11, 0.01, 0.02, 0.01, 0.01, 0.01, 0.  , 0.04, 0.07, 0.05,\n",
       "       0.01, 0.07, 0.03, 0.12, 0.  , 0.06, 0.03, 0.01, 0.04, 0.04, 0.06,\n",
       "       0.08, 0.07, 0.  , 0.05, 0.05, 0.02, 0.06, 0.13, 0.07, 0.  , 0.01,\n",
       "       0.02, 0.02, 0.02, 0.04, 0.03, 0.  , 0.02, 0.01, 0.02, 0.07, 0.02,\n",
       "       0.03, 0.07, 0.02, 0.03, 0.06, 0.09, 0.04, 0.01, 0.07, 0.01, 0.1 ,\n",
       "       0.01, 0.09, 0.03, 0.04, 0.05, 0.15, 0.04, 0.03, 0.03, 0.08, 0.02,\n",
       "       0.02, 0.08, 0.09, 0.05, 0.  , 0.07, 0.01, 0.06, 0.01, 0.03, 0.  ,\n",
       "       0.04, 0.  , 0.05, 0.03, 0.  , 0.01, 0.02, 0.02, 0.06, 0.05, 0.01,\n",
       "       0.01, 0.  , 0.02, 0.03, 0.06, 0.03, 0.  , 0.05, 0.02, 0.03, 0.12,\n",
       "       0.08, 0.04, 0.03, 0.04, 0.01, 0.  , 0.03, 0.04, 0.07, 0.01, 0.05,\n",
       "       0.01, 0.03, 0.03, 0.05, 0.07, 0.03, 0.1 , 0.03, 0.04, 0.04, 0.01,\n",
       "       0.05, 0.05, 0.01, 0.04, 0.04, 0.06, 0.  , 0.05, 0.02, 0.03, 0.01,\n",
       "       0.02, 0.1 , 0.03, 0.06, 0.03, 0.01, 0.07, 0.03, 0.09, 0.04, 0.04,\n",
       "       0.06, 0.01, 0.02, 0.02, 0.  , 0.02, 0.03, 0.01, 0.02, 0.03, 0.02,\n",
       "       0.03, 0.01, 0.  , 0.06, 0.01, 0.01, 0.  , 0.04, 0.02, 0.06, 0.02,\n",
       "       0.04, 0.11, 0.05, 0.01, 0.06, 0.08, 0.06, 0.01, 0.07, 0.01, 0.03,\n",
       "       0.02, 0.04, 0.04, 0.01, 0.11, 0.04, 0.04, 0.01, 0.  , 0.01, 0.05,\n",
       "       0.04, 0.  , 0.07, 0.11, 0.04, 0.05, 0.01, 0.04, 0.16, 0.03, 0.06,\n",
       "       0.12, 0.01, 0.08, 0.02, 0.02, 0.11, 0.03, 0.02, 0.07, 0.05, 0.06,\n",
       "       0.02, 0.12, 0.01, 0.05, 0.01, 0.01, 0.07, 0.02, 0.09, 0.02, 0.01,\n",
       "       0.06, 0.05, 0.04, 0.06, 0.06, 0.06, 0.04, 0.  , 0.01, 0.08, 0.08,\n",
       "       0.04, 0.07, 0.05, 0.02, 0.06, 0.04, 0.05, 0.05, 0.04, 0.02, 0.04,\n",
       "       0.05, 0.04, 0.01, 0.07, 0.04, 0.01, 0.05, 0.16, 0.03, 0.06, 0.06,\n",
       "       0.13, 0.01, 0.03, 0.03, 0.07, 0.  , 0.05, 0.08, 0.09, 0.02, 0.03,\n",
       "       0.02, 0.02, 0.02, 0.03, 0.03, 0.03, 0.01, 0.05, 0.02, 0.09, 0.09,\n",
       "       0.11, 0.02, 0.03, 0.01, 0.04, 0.07, 0.03, 0.04, 0.  , 0.09, 0.03,\n",
       "       0.1 , 0.06, 0.07, 0.04, 0.01, 0.  , 0.07, 0.04, 0.06, 0.04, 0.  ,\n",
       "       0.09, 0.03, 0.02, 0.07, 0.  , 0.06, 0.02, 0.01, 0.05, 0.02, 0.  ,\n",
       "       0.01, 0.  , 0.04, 0.05, 0.03, 0.03, 0.04, 0.03, 0.04, 0.03, 0.08,\n",
       "       0.02, 0.06, 0.01, 0.01, 0.06, 0.01, 0.02, 0.01, 0.06, 0.02, 0.07,\n",
       "       0.07, 0.07, 0.05, 0.06, 0.01, 0.02, 0.06, 0.04, 0.11, 0.03, 0.05,\n",
       "       0.11, 0.01, 0.07, 0.06, 0.04, 0.  , 0.05, 0.05, 0.01, 0.01, 0.03,\n",
       "       0.03, 0.05, 0.02, 0.04, 0.02, 0.05, 0.02, 0.04, 0.01, 0.05, 0.07,\n",
       "       0.03, 0.04, 0.02, 0.01, 0.01, 0.01, 0.01, 0.04, 0.08, 0.04, 0.  ,\n",
       "       0.02, 0.01, 0.02, 0.01, 0.05, 0.07, 0.03, 0.05, 0.01, 0.03, 0.01,\n",
       "       0.  , 0.1 , 0.02, 0.05, 0.01, 0.06, 0.  , 0.04, 0.01, 0.01, 0.11,\n",
       "       0.05, 0.01, 0.01, 0.03, 0.08, 0.09, 0.13, 0.01, 0.04, 0.  , 0.04,\n",
       "       0.05, 0.05, 0.06, 0.02, 0.01, 0.08, 0.06, 0.01, 0.06, 0.05, 0.04,\n",
       "       0.04, 0.04, 0.02, 0.  , 0.02, 0.03, 0.03, 0.03, 0.01, 0.02, 0.02,\n",
       "       0.05, 0.08, 0.03, 0.06, 0.09, 0.01, 0.06, 0.1 , 0.06, 0.  , 0.08,\n",
       "       0.1 , 0.03, 0.06, 0.07, 0.12, 0.  , 0.04, 0.01, 0.11, 0.07, 0.04,\n",
       "       0.04, 0.01, 0.01, 0.04, 0.03, 0.03, 0.03, 0.06, 0.07, 0.07, 0.  ,\n",
       "       0.05, 0.09, 0.03, 0.05, 0.01, 0.08, 0.11, 0.04, 0.08, 0.  , 0.01,\n",
       "       0.04, 0.04, 0.05, 0.01, 0.01, 0.01, 0.01, 0.1 , 0.03, 0.04, 0.09,\n",
       "       0.05, 0.01, 0.1 , 0.01, 0.01, 0.09, 0.04, 0.04, 0.05, 0.  , 0.07,\n",
       "       0.  , 0.02, 0.  , 0.03, 0.02, 0.04, 0.02, 0.03, 0.07, 0.04, 0.05,\n",
       "       0.06, 0.01, 0.04, 0.09, 0.04, 0.03, 0.03, 0.06, 0.06, 0.  , 0.03,\n",
       "       0.01, 0.08, 0.03, 0.01, 0.03, 0.01, 0.09, 0.05, 0.07, 0.02, 0.02,\n",
       "       0.01, 0.06, 0.01, 0.01, 0.01, 0.05, 0.03, 0.08, 0.02, 0.05, 0.01,\n",
       "       0.05, 0.03, 0.11, 0.  , 0.07, 0.07, 0.01, 0.03, 0.08, 0.07, 0.02,\n",
       "       0.05, 0.05, 0.03, 0.09, 0.06, 0.03, 0.02, 0.01, 0.06, 0.01, 0.02,\n",
       "       0.11, 0.03, 0.04, 0.03, 0.04, 0.04, 0.07, 0.1 , 0.  , 0.01, 0.06,\n",
       "       0.01, 0.08, 0.03, 0.06, 0.06, 0.03, 0.05, 0.02, 0.02, 0.03, 0.03,\n",
       "       0.08, 0.02, 0.06, 0.01, 0.  , 0.02, 0.07, 0.16, 0.02, 0.02, 0.03,\n",
       "       0.02, 0.05, 0.04, 0.15, 0.02, 0.02, 0.02, 0.  , 0.03, 0.02, 0.05,\n",
       "       0.08, 0.06, 0.04, 0.05, 0.04, 0.06, 0.04, 0.04, 0.01, 0.  , 0.03,\n",
       "       0.04, 0.03, 0.05, 0.06, 0.02, 0.04, 0.01, 0.01, 0.02, 0.09, 0.05,\n",
       "       0.01, 0.14, 0.01, 0.04, 0.09, 0.02, 0.  , 0.01, 0.04, 0.01, 0.07,\n",
       "       0.05, 0.05, 0.07, 0.1 , 0.06, 0.11, 0.06, 0.1 , 0.05, 0.02, 0.04,\n",
       "       0.01, 0.07, 0.01, 0.06, 0.01, 0.04, 0.02, 0.05, 0.  , 0.03, 0.04,\n",
       "       0.04, 0.09, 0.06, 0.01, 0.1 , 0.03, 0.04, 0.  , 0.02, 0.01, 0.04,\n",
       "       0.07, 0.04, 0.04, 0.  , 0.03, 0.07, 0.05, 0.08, 0.02, 0.07, 0.04,\n",
       "       0.08, 0.06, 0.01, 0.01, 0.  , 0.02, 0.02, 0.05, 0.03, 0.01, 0.02,\n",
       "       0.06, 0.03, 0.04, 0.03, 0.07, 0.01, 0.  , 0.01, 0.01, 0.04, 0.06,\n",
       "       0.06, 0.03, 0.01, 0.08, 0.  , 0.05, 0.05, 0.07, 0.01, 0.03, 0.02,\n",
       "       0.03, 0.08, 0.01, 0.06, 0.08, 0.04, 0.04, 0.02, 0.03, 0.07, 0.05,\n",
       "       0.04, 0.1 , 0.02, 0.03, 0.02, 0.05, 0.04, 0.02, 0.08, 0.01, 0.  ,\n",
       "       0.02, 0.08, 0.04, 0.04, 0.  , 0.03, 0.  , 0.02, 0.04, 0.02, 0.01,\n",
       "       0.03, 0.02, 0.05, 0.02, 0.02, 0.01, 0.01, 0.  , 0.01, 0.  , 0.03,\n",
       "       0.03, 0.11, 0.06, 0.05, 0.14, 0.09, 0.09, 0.03, 0.03, 0.01, 0.08,\n",
       "       0.04, 0.03, 0.03, 0.02, 0.03, 0.05, 0.04, 0.  , 0.07, 0.05, 0.02,\n",
       "       0.09, 0.  , 0.02, 0.03, 0.06, 0.04, 0.02, 0.05, 0.08, 0.07, 0.03,\n",
       "       0.1 , 0.08, 0.01, 0.05, 0.06, 0.1 , 0.1 , 0.12, 0.1 , 0.05, 0.02,\n",
       "       0.03, 0.01, 0.07, 0.02, 0.08, 0.07, 0.07, 0.1 , 0.08, 0.06, 0.05,\n",
       "       0.  , 0.02, 0.  , 0.03, 0.01, 0.03, 0.03, 0.02, 0.08, 0.07, 0.  ,\n",
       "       0.03, 0.08, 0.07, 0.03, 0.02, 0.03, 0.08, 0.08, 0.06, 0.08, 0.02,\n",
       "       0.08, 0.05, 0.02, 0.02, 0.11, 0.02, 0.06, 0.06, 0.02, 0.04, 0.01,\n",
       "       0.08, 0.04, 0.01, 0.02, 0.02, 0.01, 0.01, 0.03, 0.05, 0.03, 0.02,\n",
       "       0.06, 0.05, 0.04, 0.05, 0.01, 0.  , 0.04, 0.07, 0.  , 0.02])"
      ]
     },
     "execution_count": 13,
     "metadata": {},
     "output_type": "execute_result"
    }
   ],
   "source": [
    "# (i) run simulation of binomial(100, 0.5) for 1000 times\n",
    "np.random.seed(13579)\n",
    "n, p = 100, .5\n",
    "simulate = np.random.binomial(n, p, 1000)\n",
    "x_bar = simulate/100\n",
    "x_bar\n",
    "abs(x_bar-0.5)"
   ]
  },
  {
   "cell_type": "code",
   "execution_count": 14,
   "metadata": {},
   "outputs": [
    {
     "data": {
      "text/plain": [
       "63"
      ]
     },
     "execution_count": 14,
     "metadata": {},
     "output_type": "execute_result"
    }
   ],
   "source": [
    "# (i) answer = 63\n",
    "c = scipy.stats.norm.ppf(1-.05/2)*0.05\n",
    "abs(x_bar-0.5)\n",
    "num_h1 = (abs(x_bar-0.5) > c).sum()\n",
    "num_h1"
   ]
  },
  {
   "cell_type": "code",
   "execution_count": 15,
   "metadata": {},
   "outputs": [
    {
     "data": {
      "text/plain": [
       "0"
      ]
     },
     "execution_count": 15,
     "metadata": {},
     "output_type": "execute_result"
    }
   ],
   "source": [
    "# since we run the simulations for 1000 times, \n",
    "# by Bonferroni correction, the size should divided by 1000.\n",
    "# That is, a = 0.05/1000 = 0.00005\n",
    "c_prime = scipy.stats.norm.ppf(1-.00005/2)*0.05\n",
    "num_h1_in_i = (abs(x_bar-0.5) > c_prime).sum()\n",
    "num_h1_in_i"
   ]
  }
 ],
 "metadata": {
  "kernelspec": {
   "display_name": "Python 3.10.6 64-bit",
   "language": "python",
   "name": "python3"
  },
  "language_info": {
   "codemirror_mode": {
    "name": "ipython",
    "version": 3
   },
   "file_extension": ".py",
   "mimetype": "text/x-python",
   "name": "python",
   "nbconvert_exporter": "python",
   "pygments_lexer": "ipython3",
   "version": "3.10.6"
  },
  "orig_nbformat": 4,
  "vscode": {
   "interpreter": {
    "hash": "aee8b7b246df8f9039afb4144a1f6fd8d2ca17a180786b69acc140d282b71a49"
   }
  }
 },
 "nbformat": 4,
 "nbformat_minor": 2
}
